{
 "cells": [
  {
   "cell_type": "markdown",
   "metadata": {},
   "source": [
    "# Setup"
   ]
  },
  {
   "cell_type": "code",
   "execution_count": 34,
   "metadata": {},
   "outputs": [],
   "source": [
    "import os\n",
    "from pathlib import Path\n",
    "from typing import Iterable, List, Tuple\n",
    "from statistics import mean\n",
    "\n",
    "from PIL import Image\n",
    "import numpy as np\n",
    "from tqdm import trange\n",
    "from matplotlib import pyplot as plt\n",
    "\n",
    "import torch\n",
    "from torch import nn\n",
    "import torchvision\n",
    "import torch.nn.functional as F\n"
   ]
  },
  {
   "cell_type": "code",
   "execution_count": 2,
   "metadata": {},
   "outputs": [],
   "source": [
    "INPUT_DIR = Path(os.environ[\"INPUT_DIR\"])\n",
    "assert INPUT_DIR.exists()\n",
    "assert INPUT_DIR.is_dir()\n"
   ]
  },
  {
   "cell_type": "code",
   "execution_count": 3,
   "metadata": {},
   "outputs": [
    {
     "data": {
      "text/plain": [
       "[PosixPath('/inputs/.gitkeep'),\n",
       " PosixPath('/inputs/MNIST'),\n",
       " PosixPath('/inputs/MNIST/raw'),\n",
       " PosixPath('/inputs/MNIST/raw/train-images-idx3-ubyte'),\n",
       " PosixPath('/inputs/MNIST/raw/t10k-images-idx3-ubyte'),\n",
       " PosixPath('/inputs/MNIST/raw/train-labels-idx1-ubyte'),\n",
       " PosixPath('/inputs/MNIST/raw/t10k-labels-idx1-ubyte')]"
      ]
     },
     "execution_count": 3,
     "metadata": {},
     "output_type": "execute_result"
    }
   ],
   "source": [
    "list(INPUT_DIR.glob(\"**/*\"))\n"
   ]
  },
  {
   "cell_type": "code",
   "execution_count": 4,
   "metadata": {},
   "outputs": [],
   "source": [
    "OUTPUT_DIR = Path(os.environ[\"OUTPUT_DIR\"])\n",
    "assert OUTPUT_DIR.exists()\n",
    "assert OUTPUT_DIR.is_dir()\n"
   ]
  },
  {
   "cell_type": "markdown",
   "metadata": {},
   "source": [
    "# Load data"
   ]
  },
  {
   "cell_type": "code",
   "execution_count": 5,
   "metadata": {},
   "outputs": [],
   "source": [
    "transform = torchvision.transforms.Compose(\n",
    "    [\n",
    "        torchvision.transforms.ToTensor(),\n",
    "        torchvision.transforms.Normalize((0.1307,), (0.3081,)),\n",
    "    ]\n",
    ")\n"
   ]
  },
  {
   "cell_type": "code",
   "execution_count": 6,
   "metadata": {},
   "outputs": [],
   "source": [
    "train_ds = torchvision.datasets.MNIST(\n",
    "    INPUT_DIR, train=True, download=False, transform=transform\n",
    ")\n",
    "eval_ds = torchvision.datasets.MNIST(\n",
    "    INPUT_DIR, train=False, download=False, transform=transform\n",
    ")\n"
   ]
  },
  {
   "cell_type": "code",
   "execution_count": 39,
   "metadata": {},
   "outputs": [
    {
     "data": {
      "text/plain": [
       "torch.Size([1, 28, 28])"
      ]
     },
     "execution_count": 39,
     "metadata": {},
     "output_type": "execute_result"
    },
    {
     "data": {
      "image/png": "[encoded data removed]",
      "text/plain": [
       "<Figure size 640x480 with 1 Axes>"
      ]
     },
     "metadata": {},
     "output_type": "display_data"
    }
   ],
   "source": [
    "img, label = train_ds[np.random.randint(0, len(train_ds))]\n",
    "plt.imshow(img[0], cmap=\"gray\")\n",
    "plt.title(f\"Label: {label}\")\n",
    "img.shape\n"
   ]
  },
  {
   "cell_type": "code",
   "execution_count": 7,
   "metadata": {},
   "outputs": [],
   "source": [
    "# split train ds into train and validation\n",
    "generator = torch.Generator().manual_seed(42)\n",
    "train_ds, val_ds = torch.utils.data.random_split(\n",
    "    train_ds, [0.8, 0.2], generator=generator\n",
    ")\n"
   ]
  },
  {
   "cell_type": "code",
   "execution_count": 8,
   "metadata": {},
   "outputs": [],
   "source": [
    "batch_size = 32\n"
   ]
  },
  {
   "cell_type": "code",
   "execution_count": 9,
   "metadata": {},
   "outputs": [],
   "source": [
    "train_loader = torch.utils.data.DataLoader(\n",
    "    train_ds, batch_size=batch_size, num_workers=1, pin_memory=True, shuffle=True\n",
    ")\n",
    "val_loader = torch.utils.data.DataLoader(\n",
    "    val_ds, batch_size=batch_size, num_workers=1, pin_memory=True, shuffle=False\n",
    ")\n",
    "eval_loader = torch.utils.data.DataLoader(\n",
    "    eval_ds, batch_size=batch_size, num_workers=1, pin_memory=True, shuffle=False\n",
    ")\n"
   ]
  },
  {
   "cell_type": "markdown",
   "metadata": {},
   "source": [
    "# Model architecture"
   ]
  },
  {
   "cell_type": "code",
   "execution_count": 10,
   "metadata": {},
   "outputs": [],
   "source": [
    "class Model(nn.Module):\n",
    "    def __init__(self):\n",
    "        super().__init__()\n",
    "        self.conv1 = nn.Conv2d(1, 32, 3, 1)\n",
    "        self.conv2 = nn.Conv2d(32, 64, 3, 1)\n",
    "        self.dropout1 = nn.Dropout(0.25)\n",
    "        self.dropout2 = nn.Dropout(0.5)\n",
    "        self.fc1 = nn.Linear(9216, 128)\n",
    "        self.fc2 = nn.Linear(128, 10)\n",
    "\n",
    "    def forward(self, x):\n",
    "        x = self.conv1(x)\n",
    "        x = F.relu(x)\n",
    "        x = self.conv2(x)\n",
    "        x = F.relu(x)\n",
    "        x = F.max_pool2d(x, 2)\n",
    "        x = self.dropout1(x)\n",
    "        x = torch.flatten(x, 1)\n",
    "        x = self.fc1(x)\n",
    "        x = F.relu(x)\n",
    "        x = self.dropout2(x)\n",
    "        x = self.fc2(x)\n",
    "        output = F.log_softmax(x, dim=1)\n",
    "        return output\n"
   ]
  },
  {
   "cell_type": "markdown",
   "metadata": {},
   "source": [
    "# Training"
   ]
  },
  {
   "cell_type": "code",
   "execution_count": 11,
   "metadata": {},
   "outputs": [],
   "source": [
    "device = torch.device(\"cuda\")\n"
   ]
  },
  {
   "cell_type": "code",
   "execution_count": 12,
   "metadata": {},
   "outputs": [],
   "source": [
    "model = Model().to(device)\n"
   ]
  },
  {
   "cell_type": "code",
   "execution_count": 13,
   "metadata": {},
   "outputs": [],
   "source": [
    "optimizer = torch.optim.Adadelta(model.parameters(), lr=1.0)\n",
    "scheduler = torch.optim.lr_scheduler.StepLR(optimizer, step_size=1, gamma=0.7)\n"
   ]
  },
  {
   "cell_type": "code",
   "execution_count": 14,
   "metadata": {},
   "outputs": [],
   "source": [
    "epochs = 20\n"
   ]
  },
  {
   "cell_type": "code",
   "execution_count": 15,
   "metadata": {},
   "outputs": [],
   "source": [
    "def train(\n",
    "    model: Model,\n",
    "    device: torch.device,\n",
    "    train_loader: torch.utils.data.DataLoader,\n",
    "    optimizer: torch.optim.Optimizer,\n",
    ") -> Iterable[float]:\n",
    "    model.train()\n",
    "    for data, target in train_loader:\n",
    "        data, target = data.to(device), target.to(device)\n",
    "        optimizer.zero_grad()\n",
    "        output = model(data)\n",
    "        loss = F.nll_loss(output, target)\n",
    "        loss.backward()\n",
    "        optimizer.step()\n",
    "        loss_value = loss.item()\n",
    "        yield loss_value\n"
   ]
  },
  {
   "cell_type": "code",
   "execution_count": 16,
   "metadata": {},
   "outputs": [],
   "source": [
    "def test(\n",
    "    model: Model, device: torch.device, test_loader: torch.utils.data.DataLoader\n",
    ") -> Tuple[float, float]:\n",
    "    model.eval()\n",
    "    test_loss = 0\n",
    "    correct = 0\n",
    "    with torch.no_grad():\n",
    "        for data, target in test_loader:\n",
    "            data, target = data.to(device), target.to(device)\n",
    "            output = model(data)\n",
    "            test_loss += F.nll_loss(\n",
    "                output, target, reduction=\"sum\"\n",
    "            ).item()  # sum up batch loss\n",
    "            pred = output.argmax(\n",
    "                dim=1, keepdim=True\n",
    "            )  # get the index of the max log-probability\n",
    "            correct += pred.eq(target.view_as(pred)).sum().item()\n",
    "\n",
    "    test_loss /= len(test_loader.dataset)\n",
    "    return test_loss, correct / len(test_loader.dataset)\n"
   ]
  },
  {
   "cell_type": "code",
   "execution_count": 17,
   "metadata": {},
   "outputs": [
    {
     "name": "stderr",
     "output_type": "stream",
     "text": [
      "Epochs: 100%|██████████| 20/20 [10:55<00:00, 32.76s/it]\n"
     ]
    }
   ],
   "source": [
    "train_losses: List[float] = []\n",
    "valid_losses: List[float] = []\n",
    "valid_accuracies: List[float] = []\n",
    "for epoch in trange(1, epochs + 1, desc=\"Epochs\"):\n",
    "    train_loss = mean(train(model, device, train_loader, optimizer))\n",
    "    val_loss, val_accuracy = test(model, device, val_loader)\n",
    "    train_losses.append(train_loss)\n",
    "    valid_losses.append(val_loss)\n",
    "    valid_accuracies.append(val_accuracy)\n",
    "    torch.save(\n",
    "        {\"model_state_dict\": model.state_dict(), \"epoch\": epoch},\n",
    "        OUTPUT_DIR / f\"checkpoint_{epoch:02}.pth\",\n",
    "    )\n"
   ]
  },
  {
   "cell_type": "code",
   "execution_count": 18,
   "metadata": {},
   "outputs": [
    {
     "name": "stdout",
     "output_type": "stream",
     "text": [
      "Best epoch: 9 with loss: 0.0482392591139178, accuracy: 0.9880833333333333\n"
     ]
    }
   ],
   "source": [
    "best_epoch = np.argmin(valid_losses) + 1\n",
    "print(\n",
    "    f\"Best epoch: {best_epoch} with loss: {valid_losses[best_epoch - 1]}, accuracy: {valid_accuracies[best_epoch - 1]}\"\n",
    ")\n"
   ]
  },
  {
   "cell_type": "code",
   "execution_count": 23,
   "metadata": {},
   "outputs": [
    {
     "data": {
      "image/png": "[encoded data removed]",
      "text/plain": [
       "<Figure size 640x480 with 2 Axes>"
      ]
     },
     "metadata": {},
     "output_type": "display_data"
    }
   ],
   "source": [
    "# draw loss and accuracy during training. accuracy should be printed on twin axis\n",
    "fig, ax1 = plt.subplots()\n",
    "ax2 = ax1.twinx()\n",
    "ax1.plot(range(1, epochs + 1), train_losses, label=\"train loss\", color=\"green\")\n",
    "ax1.plot(range(1, epochs + 1), valid_losses, label=\"valid loss\", color=\"blue\")\n",
    "ax2.plot(range(1, epochs + 1), valid_accuracies, label=\"valid accuracy\", color=\"red\")\n",
    "ax1.axvline(best_epoch, color=\"black\", linestyle=\"--\", label=\"best epoch\")\n",
    "ax1.set_xlabel(\"epoch\")\n",
    "ax1.set_ylabel(\"loss\")\n",
    "ax2.set_ylabel(\"accuracy\")\n",
    "ax1.legend(loc=\"lower left\")\n",
    "ax2.legend(loc=\"upper right\")\n",
    "None\n"
   ]
  },
  {
   "cell_type": "code",
   "execution_count": 20,
   "metadata": {},
   "outputs": [
    {
     "data": {
      "text/plain": [
       "<All keys matched successfully>"
      ]
     },
     "execution_count": 20,
     "metadata": {},
     "output_type": "execute_result"
    }
   ],
   "source": [
    "best_checkpoint_path = OUTPUT_DIR / f\"checkpoint_{best_epoch:02}.pth\"\n",
    "best_checkpoint = torch.load(best_checkpoint_path)\n",
    "model.load_state_dict(best_checkpoint[\"model_state_dict\"])\n"
   ]
  },
  {
   "cell_type": "markdown",
   "metadata": {},
   "source": [
    "# Evaluation"
   ]
  },
  {
   "cell_type": "code",
   "execution_count": 21,
   "metadata": {},
   "outputs": [
    {
     "name": "stdout",
     "output_type": "stream",
     "text": [
      "Eval loss: 0.0345, Eval accuracy: 0.9896\n"
     ]
    }
   ],
   "source": [
    "eval_loss, eval_accuracy = test(model, device, eval_loader)\n",
    "print(f\"Eval loss: {eval_loss:.4f}, Eval accuracy: {eval_accuracy:.4f}\")\n"
   ]
  },
  {
   "attachments": {},
   "cell_type": "markdown",
   "metadata": {},
   "source": [
    "# Check on custom image"
   ]
  },
  {
   "cell_type": "code",
   "execution_count": 60,
   "metadata": {},
   "outputs": [],
   "source": [
    "img = Image.open(Path.cwd() / \"6.png\")\n"
   ]
  },
  {
   "cell_type": "code",
   "execution_count": 61,
   "metadata": {},
   "outputs": [],
   "source": [
    "normalized = transform(img)\n"
   ]
  },
  {
   "cell_type": "code",
   "execution_count": 62,
   "metadata": {},
   "outputs": [
    {
     "name": "stdout",
     "output_type": "stream",
     "text": [
      "output tensor([[-2.4395, -1.9117, -4.7813, -5.1761, -5.4450, -0.8115, -1.4025, -3.7197,\n",
      "         -3.6011, -5.3165]], device='cuda:0')\n",
      "Prediction: 5\n"
     ]
    }
   ],
   "source": [
    "with torch.no_grad():\n",
    "    output = model(normalized[None, ...].to(device))\n",
    "    print(\"output\", output)\n",
    "    pred = output.argmax(dim=1, keepdim=True)\n",
    "    print(f\"Prediction: {pred.item()}\")\n"
   ]
  },
  {
   "cell_type": "code",
   "execution_count": null,
   "metadata": {},
   "outputs": [],
   "source": []
  }
 ],
 "metadata": {
  "kernelspec": {
   "display_name": "Python 3",
   "language": "python",
   "name": "python3"
  },
  "language_info": {
   "codemirror_mode": {
    "name": "ipython",
    "version": 3
   },
   "file_extension": ".py",
   "mimetype": "text/x-python",
   "name": "python",
   "nbconvert_exporter": "python",
   "pygments_lexer": "ipython3",
   "version": "3.8.10"
  },
  "orig_nbformat": 4
 },
 "nbformat": 4,
 "nbformat_minor": 2
}
