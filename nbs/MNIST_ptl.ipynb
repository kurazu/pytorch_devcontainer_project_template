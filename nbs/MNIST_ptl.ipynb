{
 "cells": [
  {
   "cell_type": "markdown",
   "metadata": {},
   "source": [
    "# Setup"
   ]
  },
  {
   "cell_type": "code",
   "execution_count": 1,
   "metadata": {},
   "outputs": [],
   "source": [
    "import os\n",
    "from pathlib import Path\n",
    "from typing import Iterable, List, Tuple\n",
    "from statistics import mean\n",
    "import lightning.pytorch as lt\n",
    "from PIL import Image\n",
    "import numpy as np\n",
    "from tqdm import trange\n",
    "from matplotlib import pyplot as plt\n",
    "\n",
    "import torch\n",
    "from torch import nn\n",
    "import torchvision\n"
   ]
  },
  {
   "cell_type": "code",
   "execution_count": 2,
   "metadata": {},
   "outputs": [],
   "source": [
    "INPUT_DIR = Path(os.environ[\"INPUT_DIR\"])\n",
    "assert INPUT_DIR.exists()\n",
    "assert INPUT_DIR.is_dir()\n"
   ]
  },
  {
   "cell_type": "code",
   "execution_count": 3,
   "metadata": {},
   "outputs": [
    {
     "data": {
      "text/plain": [
       "[PosixPath('/inputs/.gitkeep'),\n",
       " PosixPath('/inputs/MNIST'),\n",
       " PosixPath('/inputs/.gitignore'),\n",
       " PosixPath('/inputs/MNIST/raw'),\n",
       " PosixPath('/inputs/MNIST/raw/train-images-idx3-ubyte'),\n",
       " PosixPath('/inputs/MNIST/raw/t10k-images-idx3-ubyte'),\n",
       " PosixPath('/inputs/MNIST/raw/train-labels-idx1-ubyte'),\n",
       " PosixPath('/inputs/MNIST/raw/t10k-labels-idx1-ubyte')]"
      ]
     },
     "execution_count": 3,
     "metadata": {},
     "output_type": "execute_result"
    }
   ],
   "source": [
    "list(INPUT_DIR.glob(\"**/*\"))\n"
   ]
  },
  {
   "cell_type": "code",
   "execution_count": 4,
   "metadata": {},
   "outputs": [],
   "source": [
    "OUTPUT_DIR = Path(os.environ[\"OUTPUT_DIR\"])\n",
    "assert OUTPUT_DIR.exists()\n",
    "assert OUTPUT_DIR.is_dir()\n"
   ]
  },
  {
   "cell_type": "markdown",
   "metadata": {},
   "source": [
    "# Load data"
   ]
  },
  {
   "cell_type": "code",
   "execution_count": 5,
   "metadata": {},
   "outputs": [],
   "source": [
    "transform = torchvision.transforms.ToTensor()\n",
    "train_ds = torchvision.datasets.MNIST(\n",
    "    INPUT_DIR, train=True, download=False, transform=transform\n",
    ")\n",
    "eval_ds = torchvision.datasets.MNIST(\n",
    "    INPUT_DIR, train=False, download=False, transform=transform\n",
    ")\n"
   ]
  },
  {
   "cell_type": "code",
   "execution_count": 6,
   "metadata": {},
   "outputs": [
    {
     "data": {
      "text/plain": [
       "(torch.Size([1, 28, 28]), 2)"
      ]
     },
     "execution_count": 6,
     "metadata": {},
     "output_type": "execute_result"
    },
    {
     "data": {
      "image/png": "[encoded data removed]",
      "text/plain": [
       "<Figure size 640x480 with 1 Axes>"
      ]
     },
     "metadata": {},
     "output_type": "display_data"
    }
   ],
   "source": [
    "img, label = train_ds[np.random.randint(0, len(train_ds))]\n",
    "plt.imshow(img[0], cmap=\"gray\")\n",
    "plt.title(f\"Label: {label}\")\n",
    "img.shape, label\n"
   ]
  },
  {
   "cell_type": "code",
   "execution_count": 7,
   "metadata": {},
   "outputs": [],
   "source": [
    "# split train ds into train and validation\n",
    "generator = torch.Generator().manual_seed(42)\n",
    "train_ds, val_ds = torch.utils.data.random_split(\n",
    "    train_ds, [0.8, 0.2], generator=generator\n",
    ")\n"
   ]
  },
  {
   "cell_type": "code",
   "execution_count": 8,
   "metadata": {},
   "outputs": [],
   "source": [
    "batch_size = 32\n"
   ]
  },
  {
   "cell_type": "code",
   "execution_count": 9,
   "metadata": {},
   "outputs": [],
   "source": [
    "train_loader = torch.utils.data.DataLoader(\n",
    "    train_ds, batch_size=batch_size, num_workers=4, pin_memory=True, shuffle=True\n",
    ")\n",
    "val_loader = torch.utils.data.DataLoader(\n",
    "    val_ds, batch_size=batch_size, num_workers=4, pin_memory=True, shuffle=False\n",
    ")\n",
    "eval_loader = torch.utils.data.DataLoader(\n",
    "    eval_ds, batch_size=batch_size, num_workers=4, pin_memory=True, shuffle=False\n",
    ")\n"
   ]
  },
  {
   "cell_type": "markdown",
   "metadata": {},
   "source": [
    "# Model architecture"
   ]
  },
  {
   "cell_type": "code",
   "execution_count": 10,
   "metadata": {},
   "outputs": [],
   "source": [
    "class DigitClassifier(lt.LightningModule):\n",
    "    def __init__(self, dropout: float = 0.25, n_classes: int = 10):\n",
    "        super().__init__()\n",
    "        self.save_hyperparameters()\n",
    "        self.dropout = dropout\n",
    "        self.n_classes = n_classes\n",
    "        self.encoder = nn.Sequential(\n",
    "            nn.Conv2d(1, 32, 3, 1),\n",
    "            nn.ReLU(),\n",
    "            nn.Conv2d(32, 64, 3, 1),\n",
    "            nn.ReLU(),\n",
    "            nn.MaxPool2d(2),\n",
    "            nn.Dropout(self.dropout),\n",
    "            nn.Flatten(),\n",
    "            nn.Linear(9216, 128),\n",
    "            nn.ReLU(),\n",
    "            nn.Dropout(self.dropout),\n",
    "            nn.Linear(128, self.n_classes),\n",
    "            # nn.Softmax(dim=-1),\n",
    "        )\n",
    "        # self.decorder = nn.Sequential(\n",
    "        #     nn.Linear(self.embedding_dim, 128),\n",
    "        #     nn.ReLU(),\n",
    "        #     nn.Dropout(self.dropout),\n",
    "        #     nn.Linear(128, 9216),\n",
    "        #     nn.ReLU(),\n",
    "        #     nn.Dropout(self.dropout),\n",
    "        #     nn.Unflatten(1, (64, 14, 14)),\n",
    "        #     nn.ConvTranspose2d(64, 32, 3, 1),\n",
    "        #     nn.ReLU(),\n",
    "        #     nn.ConvTranspose2d(32, 1, 3, 1),\n",
    "        #     nn.Sigmoid(),\n",
    "        # )\n",
    "\n",
    "    def forward(self, x: torch.Tensor) -> torch.Tensor:\n",
    "        return self.encoder(x)\n",
    "\n",
    "    def get_loss_from_batch(\n",
    "        self, batch: Tuple[torch.Tensor, torch.Tensor]\n",
    "    ) -> torch.Tensor:\n",
    "        x, y = batch\n",
    "        one_hot_y = torch.nn.functional.one_hot(y, num_classes=self.n_classes).float()\n",
    "        y_hat = self(x)\n",
    "        loss = nn.functional.binary_cross_entropy_with_logits(y_hat, one_hot_y)\n",
    "        return loss\n",
    "\n",
    "    def training_step(\n",
    "        self, batch: Tuple[torch.Tensor, torch.Tensor], batch_idx: int\n",
    "    ) -> torch.Tensor:\n",
    "        loss = self.get_loss_from_batch(batch)\n",
    "        self.log(\"train_loss\", loss)\n",
    "        return loss\n",
    "\n",
    "    def test_step(\n",
    "        self, batch: Tuple[torch.Tensor, torch.Tensor], batch_idx: int\n",
    "    ) -> None:\n",
    "        loss = self.get_loss_from_batch(batch)\n",
    "        self.log(\"test_loss\", loss)\n",
    "\n",
    "    def validation_step(\n",
    "        self, batch: Tuple[torch.Tensor, torch.Tensor], batch_idx: int\n",
    "    ) -> None:\n",
    "        loss = self.get_loss_from_batch(batch)\n",
    "        self.log(\"val_loss\", loss)\n",
    "\n",
    "    def configure_optimizers(self):\n",
    "        optimizer = torch.optim.Adam(self.parameters(), lr=1e-3)\n",
    "        return optimizer\n",
    "\n",
    "    def predict_step(self, batch, batch_idx: int, dataloader_idx: int = 0):\n",
    "        x = batch\n",
    "        logits = self(x)\n",
    "        probs = torch.nn.functional.softmax(logits, dim=-1)\n",
    "        return torch.argmax(probs, dim=-1)\n",
    "\n",
    "\n",
    "# init the autoencoder\n",
    "classifier = DigitClassifier()\n"
   ]
  },
  {
   "cell_type": "markdown",
   "metadata": {},
   "source": [
    "# Training"
   ]
  },
  {
   "cell_type": "code",
   "execution_count": 11,
   "metadata": {},
   "outputs": [
    {
     "name": "stderr",
     "output_type": "stream",
     "text": [
      "GPU available: True (cuda), used: True\n",
      "TPU available: False, using: 0 TPU cores\n",
      "IPU available: False, using: 0 IPUs\n",
      "HPU available: False, using: 0 HPUs\n",
      "/usr/local/lib/python3.8/dist-packages/lightning/pytorch/callbacks/model_checkpoint.py:612: UserWarning: Checkpoint directory /outputs/checkpoints exists and is not empty.\n",
      "  rank_zero_warn(f\"Checkpoint directory {dirpath} exists and is not empty.\")\n",
      "LOCAL_RANK: 0 - CUDA_VISIBLE_DEVICES: [0]\n",
      "\n",
      "  | Name    | Type       | Params\n",
      "---------------------------------------\n",
      "0 | encoder | Sequential | 1.2 M \n",
      "---------------------------------------\n",
      "1.2 M     Trainable params\n",
      "0         Non-trainable params\n",
      "1.2 M     Total params\n",
      "4.800     Total estimated model params size (MB)\n"
     ]
    },
    {
     "name": "stdout",
     "output_type": "stream",
     "text": [
      "Epoch 0: 100%|██████████| 1500/1500 [00:33<00:00, 44.95it/s, v_num=1]      "
     ]
    },
    {
     "name": "stderr",
     "output_type": "stream",
     "text": [
      "Metric val_loss improved. New best score: 0.012\n"
     ]
    },
    {
     "name": "stdout",
     "output_type": "stream",
     "text": [
      "Epoch 1: 100%|██████████| 1500/1500 [00:37<00:00, 40.33it/s, v_num=1]"
     ]
    },
    {
     "name": "stderr",
     "output_type": "stream",
     "text": [
      "Metric val_loss improved by 0.002 >= min_delta = 0.0. New best score: 0.010\n"
     ]
    },
    {
     "name": "stdout",
     "output_type": "stream",
     "text": [
      "Epoch 2: 100%|██████████| 1500/1500 [00:51<00:00, 29.00it/s, v_num=1]"
     ]
    },
    {
     "name": "stderr",
     "output_type": "stream",
     "text": [
      "Metric val_loss improved by 0.001 >= min_delta = 0.0. New best score: 0.009\n"
     ]
    },
    {
     "name": "stdout",
     "output_type": "stream",
     "text": [
      "Epoch 3: 100%|██████████| 1500/1500 [00:51<00:00, 28.97it/s, v_num=1]"
     ]
    },
    {
     "name": "stderr",
     "output_type": "stream",
     "text": [
      "Metric val_loss improved by 0.000 >= min_delta = 0.0. New best score: 0.008\n"
     ]
    },
    {
     "name": "stdout",
     "output_type": "stream",
     "text": [
      "Epoch 4: 100%|██████████| 1500/1500 [00:51<00:00, 29.09it/s, v_num=1]"
     ]
    },
    {
     "name": "stderr",
     "output_type": "stream",
     "text": [
      "Metric val_loss improved by 0.000 >= min_delta = 0.0. New best score: 0.008\n"
     ]
    },
    {
     "name": "stdout",
     "output_type": "stream",
     "text": [
      "Epoch 6: 100%|██████████| 1500/1500 [00:50<00:00, 29.59it/s, v_num=1]"
     ]
    },
    {
     "name": "stderr",
     "output_type": "stream",
     "text": [
      "Metric val_loss improved by 0.000 >= min_delta = 0.0. New best score: 0.008\n"
     ]
    },
    {
     "name": "stdout",
     "output_type": "stream",
     "text": [
      "Epoch 11: 100%|██████████| 1500/1500 [00:36<00:00, 40.84it/s, v_num=1]"
     ]
    },
    {
     "name": "stderr",
     "output_type": "stream",
     "text": [
      "Monitored metric val_loss did not improve in the last 5 records. Best score: 0.008. Signaling Trainer to stop.\n"
     ]
    },
    {
     "name": "stdout",
     "output_type": "stream",
     "text": [
      "Epoch 11: 100%|██████████| 1500/1500 [00:36<00:00, 40.83it/s, v_num=1]\n"
     ]
    }
   ],
   "source": [
    "checkpoint_callback = lt.callbacks.ModelCheckpoint(\n",
    "    monitor=\"val_loss\", save_top_k=1, mode=\"min\", dirpath=OUTPUT_DIR / \"checkpoints\"\n",
    ")\n",
    "trainer = lt.Trainer(\n",
    "    default_root_dir=OUTPUT_DIR,\n",
    "    accelerator=\"gpu\",\n",
    "    devices=\"auto\",\n",
    "    max_epochs=50,\n",
    "    callbacks=[\n",
    "        # patience of 5 epochs\n",
    "        lt.callbacks.EarlyStopping(monitor=\"val_loss\", patience=5, verbose=True),\n",
    "        # save the best model\n",
    "        checkpoint_callback,\n",
    "        # log the metrics to tensorboard\n",
    "    ],\n",
    "    logger=lt.loggers.TensorBoardLogger(OUTPUT_DIR / \"logs\"),\n",
    ")\n",
    "trainer.fit(\n",
    "    model=classifier, train_dataloaders=train_loader, val_dataloaders=val_loader\n",
    ")\n"
   ]
  },
  {
   "cell_type": "code",
   "execution_count": 17,
   "metadata": {},
   "outputs": [
    {
     "name": "stdout",
     "output_type": "stream",
     "text": [
      "Best checkpoint: /outputs/checkpoints/epoch=6-step=10500.ckpt with val_loss: 0.007979213260114193\n"
     ]
    }
   ],
   "source": [
    "best_checkpoint = checkpoint_callback.best_model_path\n",
    "print(\n",
    "    f\"Best checkpoint: {best_checkpoint} with val_loss: {checkpoint_callback.best_model_score}\"\n",
    ")\n",
    "classifier = DigitClassifier.load_from_checkpoint(best_checkpoint)\n"
   ]
  },
  {
   "cell_type": "markdown",
   "metadata": {},
   "source": [
    "# Evaluation"
   ]
  },
  {
   "cell_type": "code",
   "execution_count": 18,
   "metadata": {},
   "outputs": [
    {
     "name": "stderr",
     "output_type": "stream",
     "text": [
      "LOCAL_RANK: 0 - CUDA_VISIBLE_DEVICES: [0]\n"
     ]
    },
    {
     "name": "stdout",
     "output_type": "stream",
     "text": [
      "Testing DataLoader 0: 100%|██████████| 313/313 [00:02<00:00, 106.61it/s]\n"
     ]
    },
    {
     "data": {
      "text/html": [
       "<pre style=\"white-space:pre;overflow-x:auto;line-height:normal;font-family:Menlo,'DejaVu Sans Mono',consolas,'Courier New',monospace\">┏━━━━━━━━━━━━━━━━━━━━━━━━━━━┳━━━━━━━━━━━━━━━━━━━━━━━━━━━┓\n",
       "┃<span style=\"font-weight: bold\">        Test metric        </span>┃<span style=\"font-weight: bold\">       DataLoader 0        </span>┃\n",
       "┡━━━━━━━━━━━━━━━━━━━━━━━━━━━╇━━━━━━━━━━━━━━━━━━━━━━━━━━━┩\n",
       "│<span style=\"color: #008080; text-decoration-color: #008080\">         test_loss         </span>│<span style=\"color: #800080; text-decoration-color: #800080\">   0.006235434208065271    </span>│\n",
       "└───────────────────────────┴───────────────────────────┘\n",
       "</pre>\n"
      ],
      "text/plain": [
       "┏━━━━━━━━━━━━━━━━━━━━━━━━━━━┳━━━━━━━━━━━━━━━━━━━━━━━━━━━┓\n",
       "┃\u001b[1m \u001b[0m\u001b[1m       Test metric       \u001b[0m\u001b[1m \u001b[0m┃\u001b[1m \u001b[0m\u001b[1m      DataLoader 0       \u001b[0m\u001b[1m \u001b[0m┃\n",
       "┡━━━━━━━━━━━━━━━━━━━━━━━━━━━╇━━━━━━━━━━━━━━━━━━━━━━━━━━━┩\n",
       "│\u001b[36m \u001b[0m\u001b[36m        test_loss        \u001b[0m\u001b[36m \u001b[0m│\u001b[35m \u001b[0m\u001b[35m  0.006235434208065271   \u001b[0m\u001b[35m \u001b[0m│\n",
       "└───────────────────────────┴───────────────────────────┘\n"
      ]
     },
     "metadata": {},
     "output_type": "display_data"
    }
   ],
   "source": [
    "result = trainer.test(model=classifier, dataloaders=eval_loader, verbose=True)\n"
   ]
  },
  {
   "attachments": {},
   "cell_type": "markdown",
   "metadata": {},
   "source": [
    "# Check on custom image"
   ]
  },
  {
   "cell_type": "code",
   "execution_count": 36,
   "metadata": {},
   "outputs": [],
   "source": [
    "img6 = transform(Image.open(Path.cwd() / \"6.png\"))\n",
    "img7 = transform(Image.open(Path.cwd() / \"7.png\"))\n",
    "img2 = transform(Image.open(Path.cwd() / \"2.png\"))\n",
    "img9 = transform(Image.open(Path.cwd() / \"9.png\"))\n",
    "img4 = transform(Image.open(Path.cwd() / \"4.png\"))\n",
    "img5 = transform(Image.open(Path.cwd() / \"5.png\"))\n"
   ]
  },
  {
   "cell_type": "code",
   "execution_count": 37,
   "metadata": {},
   "outputs": [
    {
     "data": {
      "image/png": "[encoded data removed]",
      "text/plain": [
       "<Figure size 640x480 with 1 Axes>"
      ]
     },
     "metadata": {},
     "output_type": "display_data"
    },
    {
     "data": {
      "image/png": "[encoded data removed]",
      "text/plain": [
       "<Figure size 640x480 with 1 Axes>"
      ]
     },
     "metadata": {},
     "output_type": "display_data"
    },
    {
     "data": {
      "image/png": "[encoded data removed]",
      "text/plain": [
       "<Figure size 640x480 with 1 Axes>"
      ]
     },
     "metadata": {},
     "output_type": "display_data"
    },
    {
     "data": {
      "image/png": "[encoded data removed]",
      "text/plain": [
       "<Figure size 640x480 with 1 Axes>"
      ]
     },
     "metadata": {},
     "output_type": "display_data"
    },
    {
     "data": {
      "image/png": "[encoded data removed]",
      "text/plain": [
       "<Figure size 640x480 with 1 Axes>"
      ]
     },
     "metadata": {},
     "output_type": "display_data"
    },
    {
     "data": {
      "image/png": "[encoded data removed]",
      "text/plain": [
       "<Figure size 640x480 with 1 Axes>"
      ]
     },
     "metadata": {},
     "output_type": "display_data"
    }
   ],
   "source": [
    "for img in [img6, img7, img2, img9, img4, img5]:\n",
    "    plt.imshow(img[0], cmap=\"gray\")\n",
    "    predicted_label = classifier.predict_step(img.unsqueeze(0), 0, 0).item()\n",
    "    plt.title(f\"Predicted label: {predicted_label}\")\n",
    "    plt.show()\n"
   ]
  }
 ],
 "metadata": {
  "kernelspec": {
   "display_name": "Python 3",
   "language": "python",
   "name": "python3"
  },
  "language_info": {
   "codemirror_mode": {
    "name": "ipython",
    "version": 3
   },
   "file_extension": ".py",
   "mimetype": "text/x-python",
   "name": "python",
   "nbconvert_exporter": "python",
   "pygments_lexer": "ipython3",
   "version": "3.8.10"
  },
  "orig_nbformat": 4
 },
 "nbformat": 4,
 "nbformat_minor": 2
}
