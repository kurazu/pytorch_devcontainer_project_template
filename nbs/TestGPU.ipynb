{
 "cells": [
  {
   "cell_type": "code",
   "execution_count": 1,
   "metadata": {},
   "outputs": [],
   "source": [
    "import torch\n"
   ]
  },
  {
   "cell_type": "code",
   "execution_count": 2,
   "metadata": {},
   "outputs": [],
   "source": [
    "x = torch.rand((100, 1000), device=\"cuda\")\n"
   ]
  },
  {
   "cell_type": "code",
   "execution_count": 3,
   "metadata": {},
   "outputs": [],
   "source": [
    "y = torch.mean(x, axis=-1)\n"
   ]
  },
  {
   "cell_type": "code",
   "execution_count": 4,
   "metadata": {},
   "outputs": [
    {
     "data": {
      "text/plain": [
       "device(type='cuda', index=0)"
      ]
     },
     "execution_count": 4,
     "metadata": {},
     "output_type": "execute_result"
    }
   ],
   "source": [
    "y.device\n"
   ]
  },
  {
   "cell_type": "code",
   "execution_count": 6,
   "metadata": {},
   "outputs": [
    {
     "data": {
      "text/plain": [
       "tensor([0.4817, 0.4847, 0.4982, 0.4997, 0.4957, 0.4804, 0.5141, 0.5115, 0.5065,\n",
       "        0.4980, 0.4949, 0.4912, 0.4888, 0.4915, 0.5112, 0.5096, 0.4925, 0.5008,\n",
       "        0.5036, 0.4854, 0.5009, 0.5062, 0.4923, 0.4898, 0.5099, 0.4911, 0.4986,\n",
       "        0.4960, 0.5065, 0.4911, 0.4952, 0.5121, 0.4951, 0.5078, 0.4908, 0.4973,\n",
       "        0.5099, 0.5016, 0.5015, 0.4970, 0.4910, 0.5063, 0.4917, 0.4958, 0.4981,\n",
       "        0.5006, 0.5066, 0.4994, 0.5044, 0.4894, 0.5128, 0.4932, 0.4848, 0.4873,\n",
       "        0.4996, 0.5001, 0.5034, 0.5073, 0.5061, 0.5022, 0.5005, 0.5049, 0.4837,\n",
       "        0.5210, 0.5067, 0.5069, 0.5046, 0.4999, 0.4943, 0.5023, 0.4968, 0.4910,\n",
       "        0.4984, 0.4876, 0.4962, 0.4992, 0.5165, 0.5083, 0.5154, 0.5127, 0.4969,\n",
       "        0.5150, 0.5117, 0.5142, 0.5060, 0.4949, 0.4995, 0.4945, 0.5047, 0.4870,\n",
       "        0.4961, 0.4953, 0.4879, 0.5002, 0.5072, 0.5103, 0.5138, 0.4957, 0.5042,\n",
       "        0.4965], device='cuda:0')"
      ]
     },
     "execution_count": 6,
     "metadata": {},
     "output_type": "execute_result"
    }
   ],
   "source": [
    "y\n"
   ]
  },
  {
   "cell_type": "code",
   "execution_count": null,
   "metadata": {},
   "outputs": [],
   "source": []
  }
 ],
 "metadata": {
  "kernelspec": {
   "display_name": "Python 3",
   "language": "python",
   "name": "python3"
  },
  "language_info": {
   "codemirror_mode": {
    "name": "ipython",
    "version": 3
   },
   "file_extension": ".py",
   "mimetype": "text/x-python",
   "name": "python",
   "nbconvert_exporter": "python",
   "pygments_lexer": "ipython3",
   "version": "3.8.10"
  },
  "orig_nbformat": 4
 },
 "nbformat": 4,
 "nbformat_minor": 2
}
